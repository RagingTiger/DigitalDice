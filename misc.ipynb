{
 "cells": [
  {
   "cell_type": "markdown",
   "id": "39812863-db9f-49c3-98fc-eecf0beedf2b",
   "metadata": {},
   "source": [
    "# Miscellaneous\n",
    "Here we explore topics not found in the main body of the book *Digital Dice: Computational Solutions to Practical Probability Problems* by [Paul J. Nahin](https://en.wikipedia.org/wiki/Paul_J._Nahin)."
   ]
  },
  {
   "cell_type": "markdown",
   "id": "e2f176fd-ab5a-4ad6-b6ef-9516e102c162",
   "metadata": {},
   "source": [
    "# Setup\n",
    "Need to import *modules* and load any *data*:"
   ]
  },
  {
   "cell_type": "code",
   "execution_count": null,
   "id": "56728caa-ab7f-437f-978b-93d980a387cc",
   "metadata": {},
   "outputs": [],
   "source": [
    "# custom libs\n",
    "from packages import misc"
   ]
  },
  {
   "cell_type": "markdown",
   "id": "04284517-d5b2-481f-b675-842fd3f8f31c",
   "metadata": {},
   "source": [
    "## Presidents Problem\n",
    "Here is the problem as stated in the *Introduction*:\n",
    "```\n",
    "A clueless student faced a pop quiz: a list of the 24 Presidents of the 19th century and another list of their terms in office, but scrambled. The object was to match the President with the term. He had to guess every time. On average, how many did he guess correctly?\n",
    "\n",
    "Imagine that this scenario occurs 1000 times, readers. On average, how many matches (of the 24 possible) would a student guess correctly? Be sure to guess before looking at the answer below!\n",
    "```\n",
    "\n",
    "Below we calculate what is the *average* amount of matches."
   ]
  },
  {
   "cell_type": "code",
   "execution_count": null,
   "id": "b7c3ed64-e06e-45d9-ae58-c53436ba8c0b",
   "metadata": {},
   "outputs": [],
   "source": [
    "# running the experiment\n",
    "misc.presidents_problem()"
   ]
  }
 ],
 "metadata": {
  "kernelspec": {
   "display_name": "Python 3 (ipykernel)",
   "language": "python",
   "name": "python3"
  },
  "language_info": {
   "codemirror_mode": {
    "name": "ipython",
    "version": 3
   },
   "file_extension": ".py",
   "mimetype": "text/x-python",
   "name": "python",
   "nbconvert_exporter": "python",
   "pygments_lexer": "ipython3",
   "version": "3.9.6"
  }
 },
 "nbformat": 4,
 "nbformat_minor": 5
}
